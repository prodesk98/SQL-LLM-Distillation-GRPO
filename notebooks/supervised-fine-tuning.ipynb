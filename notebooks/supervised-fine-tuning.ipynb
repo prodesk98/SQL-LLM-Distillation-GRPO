{
 "cells": [
  {
   "cell_type": "code",
   "id": "initial_id",
   "metadata": {
    "collapsed": true,
    "ExecuteTime": {
     "end_time": "2025-05-03T19:00:50.019124Z",
     "start_time": "2025-05-03T19:00:49.981436Z"
    }
   },
   "source": [
    "import torch\n",
    "from transformers import AutoModelForCausalLM, AutoTokenizer, PreTrainedTokenizer\n",
    "from trl import ModelConfig, get_kbit_device_map, get_quantization_config\n",
    "from schemas import GRPOConfig, SFTConfig"
   ],
   "outputs": [],
   "execution_count": 3
  },
  {
   "metadata": {},
   "cell_type": "markdown",
   "source": "## Training",
   "id": "ae29487ee5f76067"
  },
  {
   "metadata": {
    "ExecuteTime": {
     "end_time": "2025-05-03T19:28:45.340866Z",
     "start_time": "2025-05-03T19:28:45.335989Z"
    }
   },
   "cell_type": "code",
   "source": [
    "from datasets import load_dataset\n",
    "from transformers import set_seed\n",
    "from transformers.trainer_utils import get_last_checkpoint\n",
    "from trl import ModelConfig, ScriptArguments, SFTTrainer, TrlParser, get_peft_config, setup_chat_format\n",
    "from utils import get_tokenizer, get_model\n",
    "\n",
    "from schemas import SFTConfig"
   ],
   "id": "63b2a8994288799b",
   "outputs": [],
   "execution_count": 16
  },
  {
   "metadata": {
    "ExecuteTime": {
     "end_time": "2025-05-03T19:31:29.583942Z",
     "start_time": "2025-05-03T19:30:38.970447Z"
    }
   },
   "cell_type": "code",
   "source": [
    "# Load Dataset\n",
    "dataset = load_dataset(\"proton98/sql-gpt-4.1-nano-distill-reasoning-data\")\n",
    "\n",
    "# Build Config\n",
    "model_args = ModelConfig(\n",
    "    model_name_or_path=\"google/gemma-3-1b-it\",\n",
    ")\n",
    "\n",
    "training_args = SFTConfig()\n",
    "\n",
    "# Load Tokenizer\n",
    "tokenizer = get_tokenizer(model_args, training_args)\n",
    "\n",
    "# Load Model\n",
    "model = get_model(model_args, training_args)\n",
    "\n",
    "if tokenizer.chat_template is None:\n",
    "    model, tokenizer = setup_chat_format(model, tokenizer, format=\"chatml\")\n"
   ],
   "id": "bae34c729108aa46",
   "outputs": [
    {
     "data": {
      "text/plain": [
       "config.json:   0%|          | 0.00/899 [00:00<?, ?B/s]"
      ],
      "application/vnd.jupyter.widget-view+json": {
       "version_major": 2,
       "version_minor": 0,
       "model_id": "727ce097d6324003ab4e37699f5de3cb"
      }
     },
     "metadata": {},
     "output_type": "display_data"
    },
    {
     "data": {
      "text/plain": [
       "model.safetensors:   0%|          | 0.00/2.00G [00:00<?, ?B/s]"
      ],
      "application/vnd.jupyter.widget-view+json": {
       "version_major": 2,
       "version_minor": 0,
       "model_id": "572bc362e11c4804b291c9aab4bec174"
      }
     },
     "metadata": {},
     "output_type": "display_data"
    },
    {
     "data": {
      "text/plain": [
       "generation_config.json:   0%|          | 0.00/215 [00:00<?, ?B/s]"
      ],
      "application/vnd.jupyter.widget-view+json": {
       "version_major": 2,
       "version_minor": 0,
       "model_id": "40d7c3a33ca24441a0d469180bff3e77"
      }
     },
     "metadata": {},
     "output_type": "display_data"
    }
   ],
   "execution_count": 17
  },
  {
   "metadata": {},
   "cell_type": "code",
   "source": [
    "trainer = SFTTrainer(\n",
    "    model=model,\n",
    "    args=training_args,\n",
    "    train_dataset=dataset[\"train\"],\n",
    "    processing_class=tokenizer,\n",
    "    peft_config=get_peft_config(model_args),\n",
    ")"
   ],
   "id": "16d294e459cfc4e9",
   "outputs": [],
   "execution_count": null
  },
  {
   "metadata": {},
   "cell_type": "code",
   "outputs": [],
   "execution_count": null,
   "source": "",
   "id": "40fe612f4753fe49"
  }
 ],
 "metadata": {
  "kernelspec": {
   "display_name": "Python 3",
   "language": "python",
   "name": "python3"
  },
  "language_info": {
   "codemirror_mode": {
    "name": "ipython",
    "version": 2
   },
   "file_extension": ".py",
   "mimetype": "text/x-python",
   "name": "python",
   "nbconvert_exporter": "python",
   "pygments_lexer": "ipython2",
   "version": "2.7.6"
  }
 },
 "nbformat": 4,
 "nbformat_minor": 5
}
